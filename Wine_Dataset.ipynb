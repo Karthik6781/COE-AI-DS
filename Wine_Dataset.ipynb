{
 "cells": [
  {
   "cell_type": "code",
   "execution_count": 1,
   "id": "b5537d50",
   "metadata": {},
   "outputs": [
    {
     "name": "stdout",
     "output_type": "stream",
     "text": [
      "Intercept: 5.756420154501262\n",
      "Coefficients: [-0.29213397]\n",
      "Mean Squared Error: 0.5072695876025006\n",
      "R-squared: 0.1303949926814273\n",
      "Predicted Wine: 1\n"
     ]
    },
    {
     "name": "stderr",
     "output_type": "stream",
     "text": [
      "C:\\Users\\CVR\\anaconda3\\Lib\\site-packages\\sklearn\\utils\\validation.py:2739: UserWarning: X does not have valid feature names, but LinearRegression was fitted with feature names\n",
      "  warnings.warn(\n"
     ]
    }
   ],
   "source": [
    "import numpy as np\n",
    "import pandas as pd\n",
    "from sklearn.model_selection import train_test_split\n",
    "from sklearn.linear_model import LinearRegression\n",
    "from sklearn.metrics import mean_squared_error, r2_score\n",
    "from sklearn.model_selection import train_test_split\n",
    "\n",
    "df=pd.read_csv('wine.csv')\n",
    "\n",
    "X = df[['Alcohol']]  #  1 Independent variables\n",
    "y = df['Wine']  # Dependent variable\n",
    "\n",
    "X_train, X_test, y_train, y_test = train_test_split(X, y, test_size=0.2, random_state=42)\n",
    "model = LinearRegression()\n",
    "model.fit(X_train, y_train)\n",
    "y_pred = model.predict(X_test)\n",
    "print(\"Intercept:\", model.intercept_)\n",
    "print(\"Coefficients:\", model.coef_)\n",
    "\n",
    "mse = mean_squared_error(y_test, y_pred)\n",
    "r2 = r2_score(y_test, y_pred)\n",
    "print(\"Mean Squared Error:\", mse)\n",
    "print(\"R-squared:\", r2)\n",
    "\n",
    "new_wine = np.array([[15]])\n",
    "predicted_wine = model.predict(new_wine)\n",
    "print(f\"Predicted Wine: {round(predicted_wine[0])}\")"
   ]
  },
  {
   "cell_type": "code",
   "execution_count": 9,
   "id": "234190c2",
   "metadata": {},
   "outputs": [
    {
     "name": "stdout",
     "output_type": "stream",
     "text": [
      "Intercept: 1.7349758894898073\n",
      "Coefficients: [ 0.11962705 -0.00180004]\n",
      "Mean Squared Error: 0.31844582966000207\n",
      "R-squared: 0.45409286343999633\n",
      "Predicted Wine: 1\n"
     ]
    },
    {
     "name": "stderr",
     "output_type": "stream",
     "text": [
      "C:\\Users\\CVR\\anaconda3\\Lib\\site-packages\\sklearn\\utils\\validation.py:2739: UserWarning: X does not have valid feature names, but LinearRegression was fitted with feature names\n",
      "  warnings.warn(\n"
     ]
    }
   ],
   "source": [
    "X1 = df[['Alcohol','Proline']]  #  2 Independent variables\n",
    "y1 = df['Wine']  # Dependent variable\n",
    "\n",
    "X1_train, X1_test, y1_train, y1_test = train_test_split(X1, y1, test_size=0.2, random_state=42)\n",
    "model1 = LinearRegression()\n",
    "model1.fit(X1_train, y1_train)\n",
    "y1_pred = model1.predict(X1_test)\n",
    "print(\"Intercept:\", model1.intercept_)\n",
    "print(\"Coefficients:\", model1.coef_)\n",
    "\n",
    "mse1 = mean_squared_error(y1_test, y1_pred)\n",
    "r2_1 = r2_score(y1_test, y1_pred)\n",
    "print(\"Mean Squared Error:\", mse1)\n",
    "print(\"R-squared:\", r2_1)\n",
    "\n",
    "new_wine1 = np.array([[15,1500]])\n",
    "predicted_wine1 = model1.predict(new_wine1)\n",
    "print(f\"Predicted Wine: {round(predicted_wine1[0])}\")"
   ]
  },
  {
   "cell_type": "code",
   "execution_count": 14,
   "id": "96471ec1",
   "metadata": {},
   "outputs": [
    {
     "name": "stdout",
     "output_type": "stream",
     "text": [
      "Intercept: 1.3969453682259452\n",
      "Coefficients: [ 0.10944574 -0.0018197   0.2052769 ]\n",
      "Mean Squared Error: 0.3097990929982601\n",
      "R-squared: 0.46891584057441116\n",
      "Predicted Wine: 3\n"
     ]
    },
    {
     "name": "stderr",
     "output_type": "stream",
     "text": [
      "C:\\Users\\CVR\\anaconda3\\Lib\\site-packages\\sklearn\\utils\\validation.py:2739: UserWarning: X does not have valid feature names, but LinearRegression was fitted with feature names\n",
      "  warnings.warn(\n"
     ]
    }
   ],
   "source": [
    "X2 = df[['Alcohol','Proline','Ash']]  #  3 Independent variables\n",
    "y2 = df['Wine']  # Dependent variable\n",
    "\n",
    "X2_train, X2_test, y2_train, y2_test = train_test_split(X2, y2, test_size=0.2, random_state=42)\n",
    "model2 = LinearRegression()\n",
    "model2.fit(X2_train, y2_train)\n",
    "y2_pred = model2.predict(X2_test)\n",
    "print(\"Intercept:\", model2.intercept_)\n",
    "print(\"Coefficients:\", model2.coef_)\n",
    "\n",
    "mse2 = mean_squared_error(y2_test, y2_pred)\n",
    "r2_2 = r2_score(y2_test, y2_pred)\n",
    "print(\"Mean Squared Error:\", mse2)\n",
    "print(\"R-squared:\", r2_2)\n",
    "\n",
    "new_wine2 = np.array([[13,500,3.4]])\n",
    "predicted_wine2 = model2.predict(new_wine2)\n",
    "print(f\"Predicted Wine: {round(predicted_wine2[0])}\")"
   ]
  },
  {
   "cell_type": "code",
   "execution_count": null,
   "id": "66c1c351",
   "metadata": {},
   "outputs": [],
   "source": []
  },
  {
   "cell_type": "code",
   "execution_count": null,
   "id": "9fae821b",
   "metadata": {},
   "outputs": [],
   "source": []
  }
 ],
 "metadata": {
  "kernelspec": {
   "display_name": "Python 3 (ipykernel)",
   "language": "python",
   "name": "python3"
  },
  "language_info": {
   "codemirror_mode": {
    "name": "ipython",
    "version": 3
   },
   "file_extension": ".py",
   "mimetype": "text/x-python",
   "name": "python",
   "nbconvert_exporter": "python",
   "pygments_lexer": "ipython3",
   "version": "3.11.5"
  }
 },
 "nbformat": 4,
 "nbformat_minor": 5
}
